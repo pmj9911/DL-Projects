{
  "nbformat": 4,
  "nbformat_minor": 0,
  "metadata": {
    "colab": {
      "name": "NaturalDisasterClassification.ipynb",
      "provenance": [],
      "collapsed_sections": []
    },
    "kernelspec": {
      "name": "python3",
      "display_name": "Python 3"
    },
    "accelerator": "GPU"
  },
  "cells": [
    {
      "cell_type": "code",
      "metadata": {
        "id": "pamtfgGBojMq",
        "colab_type": "code",
        "colab": {}
      },
      "source": [
        "# # !pip install PyDrive\n",
        "# https://drive.google.com/open?id=1YnvVHkVoD8lTWsq-WfK5MtMo_z8wIqVa: google drive link of all the required files\n",
        "import os\n",
        "from pydrive.auth import GoogleAuth\n",
        "from pydrive.drive import GoogleDrive\n",
        "from google.colab import auth\n",
        "from oauth2client.client import GoogleCredentials\n",
        "\n",
        "auth.authenticate_user()\n",
        "gauth = GoogleAuth()\n",
        "gauth.credentials = GoogleCredentials.get_application_default()\n",
        "drive = GoogleDrive(gauth)\n",
        "\n",
        "inp = {\n",
        "    \n",
        "# find the file to be used and click on get shareable link. copy all the text after open?\n",
        "    # \"1NvTyhUsrFbL91E10EPm38IjoCg6E2c6q\" : \"Cyclone_Wildfire_Flood_Earthquake_Database.zip\"\n",
        "    # \"1EOQy59pW3ZnwBOc_MfpgA97HF632Vxut\" : \"clr_callback.py\",\n",
        "    # \"1NeyxaL6AaQloh11_90udLXAD35P0x2Np\" : \"learningratefinder.py\",\n",
        "    # \"1bcK2H_HiyxX8V7Q8B-yX2P4Uzt9dr_OF\" : \"Terrific Natural Disasters Compilation.mp4\"\n",
        "}\n",
        "#  For files only, not for folders\n",
        "\n",
        "for (k,v) in inp.items():\n",
        "  print(k,v[:-4])\n",
        "\n",
        "  download = drive.CreateFile({'id': k})\n",
        "  download.GetContentFile(v)\n",
        "\n",
        "# for (k,v) in inp.items():\n",
        "#   if \".zip\" in v:\n",
        "#     target = v[:-4]\n",
        "    # !unzip -q $v \n",
        "# # # # !rm -r Cyclone_Wildfire_Flood_Earthquake_Database/\n",
        "OutputFolder = \"/content/output/\"\n",
        "ProjectName = \"NaturalDisasterClassification\"\n",
        "DriveOutputFolder = \"drive/My\\ Drive/Colab\\ Notebooks/DLProjects/\" + ProjectName +\"/output/\"\n"
      ],
      "execution_count": 0,
      "outputs": []
    },
    {
      "cell_type": "code",
      "metadata": {
        "id": "fSGNGXfGpz15",
        "colab_type": "code",
        "colab": {}
      },
      "source": [
        "DATASET_PATH = \"Cyclone_Wildfire_Flood_Earthquake_Database\"\n",
        "CLASSES = [\"Cyclone\", \"Wildfire\", \"Flood\", \"Earthquake\"]\n",
        "TRAIN_SPLIT = 0.75\n",
        "VAL_SPLIT = 0.1\n",
        "TEST_SPLIT = 0.25\n",
        "MIN_LR = 1e-6\n",
        "MAX_LR = 1e-4\n",
        "BATCH_SIZE = 32\n",
        "STEP_SIZE = 8\n",
        "CLR_METHOD = \"triangular\"\n",
        "NUM_OF_EPOCH = 48\n",
        "\n",
        "MODEL_PATH = \"output/natural_disaster.model\"\n",
        "LRFIND_PLOT_PATH = \"output/lrfind_plot.png\"\n",
        "TRAINING_PLOT_PATH = \"output/training_plot.png\"\n",
        "CLR_PLOT_PATH = \"output/clr_plot.png\""
      ],
      "execution_count": 0,
      "outputs": []
    },
    {
      "cell_type": "code",
      "metadata": {
        "id": "smRJUt5-3k_b",
        "colab_type": "code",
        "colab": {}
      },
      "source": [
        "from tensorflow.keras.preprocessing.image import ImageDataGenerator\n",
        "from tensorflow.keras.applications import VGG16\n",
        "from tensorflow.keras.models import Model\n",
        "from tensorflow.keras.layers import Dense, Dropout, Flatten, Input\n",
        "from tensorflow.keras.optimizers import SGD\n",
        "from sklearn.preprocessing import LabelBinarizer\n",
        "from sklearn.model_selection import train_test_split\n",
        "from sklearn.metrics import classification_report\n",
        "from learningratefinder import LearningRateFinder\n",
        "from clr_callback import CyclicLR\n",
        "from imutils import paths\n",
        "import matplotlib.pyplot as plt\n",
        "import numpy as np\n",
        "import argparse\n",
        "import pickle\n",
        "import cv2\n",
        "import sys\n",
        "import os"
      ],
      "execution_count": 0,
      "outputs": []
    },
    {
      "cell_type": "code",
      "metadata": {
        "id": "mSO33KTt6N3O",
        "colab_type": "code",
        "colab": {}
      },
      "source": [
        "# Loading images\n",
        "imagePaths = list(paths.list_images(DATASET_PATH))\n",
        "data = []\n",
        "labels = []\n",
        "# print(imagePaths[0].split(os.path.sep)[-2])"
      ],
      "execution_count": 0,
      "outputs": []
    },
    {
      "cell_type": "code",
      "metadata": {
        "id": "bb-Z7xKa6xfk",
        "colab_type": "code",
        "colab": {
          "base_uri": "https://localhost:8080/",
          "height": 104
        },
        "outputId": "9f24957b-a897-4be1-f43b-4f47f833d844"
      },
      "source": [
        "for (i,imagePath) in enumerate(imagePaths):\n",
        "  if i % 1000 == 0:\n",
        "    print(\"processed a total of {} images\".format(i))\n",
        "  label = imagePath.split(os.path.sep)[-2]\n",
        "  \n",
        "  image = cv2.imread(imagePath)\n",
        "  image = cv2.cvtColor(image, cv2.COLOR_BGR2RGB)\n",
        "  image = cv2.resize(image,(224,224))\n",
        "\n",
        "  data.append(image)\n",
        "  labels.append(label)"
      ],
      "execution_count": 26,
      "outputs": [
        {
          "output_type": "stream",
          "text": [
            "processed a total of 0 images\n",
            "processed a total of 1000 images\n",
            "processed a total of 2000 images\n",
            "processed a total of 3000 images\n",
            "processed a total of 4000 images\n"
          ],
          "name": "stdout"
        }
      ]
    },
    {
      "cell_type": "code",
      "metadata": {
        "id": "3TT7NoHK912Z",
        "colab_type": "code",
        "colab": {
          "base_uri": "https://localhost:8080/",
          "height": 34
        },
        "outputId": "9b5e93c6-efc9-42db-80b9-6daa45df3d04"
      },
      "source": [
        "print(np.unique(labels))"
      ],
      "execution_count": 27,
      "outputs": [
        {
          "output_type": "stream",
          "text": [
            "['Cyclone' 'Earthquake' 'Flood' 'Wildfire']\n"
          ],
          "name": "stdout"
        }
      ]
    },
    {
      "cell_type": "code",
      "metadata": {
        "id": "79-iLrDS8CSO",
        "colab_type": "code",
        "colab": {}
      },
      "source": [
        "# processing data\n",
        "data = np.array(data, dtype=\"float32\")\n",
        "labels = np.array(labels)"
      ],
      "execution_count": 0,
      "outputs": []
    },
    {
      "cell_type": "code",
      "metadata": {
        "id": "fh3PWTQB9ceu",
        "colab_type": "code",
        "colab": {
          "base_uri": "https://localhost:8080/",
          "height": 34
        },
        "outputId": "77b95c3e-7cbd-4b8a-e237-10d1866cdab5"
      },
      "source": [
        "print(np.unique(labels))"
      ],
      "execution_count": 29,
      "outputs": [
        {
          "output_type": "stream",
          "text": [
            "['Cyclone' 'Earthquake' 'Flood' 'Wildfire']\n"
          ],
          "name": "stdout"
        }
      ]
    },
    {
      "cell_type": "code",
      "metadata": {
        "id": "eJy7cfeA8oLh",
        "colab_type": "code",
        "colab": {}
      },
      "source": [
        "lb = LabelBinarizer()\n",
        "labels = lb.fit_transform(labels)"
      ],
      "execution_count": 0,
      "outputs": []
    },
    {
      "cell_type": "code",
      "metadata": {
        "id": "y6eXfz759eOu",
        "colab_type": "code",
        "colab": {
          "base_uri": "https://localhost:8080/",
          "height": 34
        },
        "outputId": "bac64dd9-226b-4771-e879-8c0324cd57b3"
      },
      "source": [
        "print(labels[0])"
      ],
      "execution_count": 32,
      "outputs": [
        {
          "output_type": "stream",
          "text": [
            "[0 0 0 1]\n"
          ],
          "name": "stdout"
        }
      ]
    },
    {
      "cell_type": "code",
      "metadata": {
        "id": "_V64dxvo-gSV",
        "colab_type": "code",
        "colab": {}
      },
      "source": [
        "(trainX, testX, trainY, testY) = train_test_split(data, labels, test_size = TEST_SPLIT, random_state = 42)"
      ],
      "execution_count": 0,
      "outputs": []
    },
    {
      "cell_type": "code",
      "metadata": {
        "id": "ssKEF7bN_C3d",
        "colab_type": "code",
        "colab": {}
      },
      "source": [
        "(trainX, valX, trainY, valY) = train_test_split(trainX, trainY, test_size = VAL_SPLIT, random_state=84)"
      ],
      "execution_count": 0,
      "outputs": []
    },
    {
      "cell_type": "code",
      "metadata": {
        "id": "JJandHt1_etN",
        "colab_type": "code",
        "colab": {}
      },
      "source": [
        "aug = ImageDataGenerator(\n",
        "\trotation_range=30,\n",
        "\tzoom_range=0.15,\n",
        "\twidth_shift_range=0.2,\n",
        "\theight_shift_range=0.2,\n",
        "\tshear_range=0.15,\n",
        "\thorizontal_flip=True,\n",
        "\tfill_mode=\"nearest\")"
      ],
      "execution_count": 0,
      "outputs": []
    },
    {
      "cell_type": "code",
      "metadata": {
        "id": "2syXfW2O_iY8",
        "colab_type": "code",
        "colab": {}
      },
      "source": [
        "# loading the vgg16 model, pretrained on imagenet, without the top layer\n",
        "baseModel = VGG16(weights=\"imagenet\",include_top=False, input_tensor=Input(shape=(224,224,3)))"
      ],
      "execution_count": 0,
      "outputs": []
    },
    {
      "cell_type": "code",
      "metadata": {
        "id": "imoPM3GaAUwG",
        "colab_type": "code",
        "colab": {}
      },
      "source": [
        "# creating the head layer of the model\n",
        "headModel = baseModel.output\n",
        "headModel = Flatten(name=\"flatter\")(headModel)\n",
        "headModel = Dense(512, activation=\"relu\")(headModel)\n",
        "headModel = Dropout(0.5)(headModel)\n",
        "headModel = Dense(len(CLASSES), activation=\"softmax\")(headModel)"
      ],
      "execution_count": 0,
      "outputs": []
    },
    {
      "cell_type": "code",
      "metadata": {
        "id": "PwJ1aDI_A7s5",
        "colab_type": "code",
        "colab": {}
      },
      "source": [
        "# creating the model\n",
        "model = Model(inputs=baseModel.input, outputs=headModel)"
      ],
      "execution_count": 0,
      "outputs": []
    },
    {
      "cell_type": "code",
      "metadata": {
        "id": "lc_sxjJlBPz9",
        "colab_type": "code",
        "colab": {}
      },
      "source": [
        "for layer in baseModel.layers:\n",
        "  layer.trainable = False"
      ],
      "execution_count": 0,
      "outputs": []
    },
    {
      "cell_type": "code",
      "metadata": {
        "id": "E7vDduCoBbEG",
        "colab_type": "code",
        "colab": {}
      },
      "source": [
        "# compiling the model\n",
        "opt = SGD(lr=MIN_LR, momentum=0.9)\n",
        "model.compile(loss=\"categorical_crossentropy\", optimizer=opt, metrics = [\"accuracy\"])"
      ],
      "execution_count": 0,
      "outputs": []
    },
    {
      "cell_type": "code",
      "metadata": {
        "id": "0x0V8dd7BwFr",
        "colab_type": "code",
        "colab": {
          "base_uri": "https://localhost:8080/",
          "height": 960
        },
        "outputId": "9034ef5d-49ef-40dc-da5e-581539a23206"
      },
      "source": [
        "# check to see if we are attempting to find an optimal learning rate\n",
        "# before training for the full number of epochs\n",
        "find_lr = 1\n",
        "if find_lr > 0:\n",
        "\t# initialize the learning rate finder and then train with learning\n",
        "\t# rates ranging from 1e-10 to 1e+1\n",
        "\tprint(\"[INFO] finding learning rate...\")\n",
        "\tlrf = LearningRateFinder(model)\n",
        "\tlrf.find(\n",
        "\t\taug.flow(trainX, trainY, batch_size=BATCH_SIZE),\n",
        "\t\t1e-10, 1e+1,\n",
        "\t\tstepsPerEpoch=np.ceil((trainX.shape[0] / float(BATCH_SIZE))),\n",
        "\t\tepochs=20,\n",
        "\t\tbatchSize=BATCH_SIZE)\n",
        " \n",
        "\t# plot the loss for the various learning rates and save the\n",
        "\t# resulting plot to disk\n",
        "\tlrf.plot_loss()\n",
        "\tplt.savefig(LRFIND_PLOT_PATH)\n",
        " \n",
        "\t# gracefully exit the script so we can adjust our learning rates\n",
        "\t# in the config and then train the network for our full set of\n",
        "\t# epochs\n",
        "\tprint(\"[INFO] learning rate finder complete\")\n",
        "\tprint(\"[INFO] examine plot and adjust learning rates before training\")"
      ],
      "execution_count": 46,
      "outputs": [
        {
          "output_type": "stream",
          "text": [
            "[INFO] finding learning rate...\n",
            "Epoch 1/20\n",
            "94/94 [==============================] - 42s 446ms/step - loss: 17.7563 - accuracy: 0.2520\n",
            "Epoch 2/20\n",
            "94/94 [==============================] - 41s 436ms/step - loss: 17.8554 - accuracy: 0.2403\n",
            "Epoch 3/20\n",
            "94/94 [==============================] - 41s 434ms/step - loss: 18.0683 - accuracy: 0.2440\n",
            "Epoch 4/20\n",
            "94/94 [==============================] - 41s 435ms/step - loss: 17.6475 - accuracy: 0.2463\n",
            "Epoch 5/20\n",
            "94/94 [==============================] - 41s 436ms/step - loss: 17.6790 - accuracy: 0.2477\n",
            "Epoch 6/20\n",
            "94/94 [==============================] - 41s 436ms/step - loss: 16.8465 - accuracy: 0.2537\n",
            "Epoch 7/20\n",
            "94/94 [==============================] - 41s 439ms/step - loss: 13.9654 - accuracy: 0.3240\n",
            "Epoch 8/20\n",
            "94/94 [==============================] - 41s 434ms/step - loss: 11.6402 - accuracy: 0.3768\n",
            "Epoch 9/20\n",
            "94/94 [==============================] - 41s 435ms/step - loss: 6.9927 - accuracy: 0.5258\n",
            "Epoch 10/20\n",
            "94/94 [==============================] - 41s 432ms/step - loss: 4.1094 - accuracy: 0.6740\n",
            "Epoch 11/20\n",
            "94/94 [==============================] - 41s 432ms/step - loss: 2.3998 - accuracy: 0.7741\n",
            "Epoch 12/20\n",
            "94/94 [==============================] - 40s 431ms/step - loss: 1.6055 - accuracy: 0.8049\n",
            "Epoch 13/20\n",
            "94/94 [==============================] - 40s 427ms/step - loss: 3.1506 - accuracy: 0.7393\n",
            "Epoch 14/20\n",
            "94/94 [==============================] - 40s 426ms/step - loss: 4.0083 - accuracy: 0.6258\n",
            "Epoch 15/20\n",
            "94/94 [==============================] - 40s 427ms/step - loss: 2.1802 - accuracy: 0.4454\n",
            "Epoch 16/20\n",
            "94/94 [==============================] - 40s 429ms/step - loss: 3.3473 - accuracy: 0.3471\n",
            "Epoch 17/20\n",
            "94/94 [==============================] - 40s 430ms/step - loss: 4.8644 - accuracy: 0.2982\n",
            "Epoch 18/20\n",
            "94/94 [==============================] - 40s 429ms/step - loss: 298.5914 - accuracy: 0.2724\n",
            "[INFO] learning rate finder complete\n",
            "[INFO] examine plot and adjust learning rates before training\n"
          ],
          "name": "stdout"
        },
        {
          "output_type": "display_data",
          "data": {
            "image/png": "[encoded data removed]",
            "text/plain": [
              "<Figure size 432x288 with 1 Axes>"
            ]
          },
          "metadata": {
            "tags": [],
            "needs_background": "light"
          }
        }
      ]
    },
    {
      "cell_type": "code",
      "metadata": {
        "id": "IHgep3AAB-xi",
        "colab_type": "code",
        "colab": {}
      },
      "source": [
        "# initialise the cyclir lr \n",
        "stepSize = STEP_SIZE * (trainX.shape[0] // BATCH_SIZE)\n",
        "clr = CyclicLR(\n",
        "    mode = CLR_METHOD,\n",
        "    base_lr = MIN_LR,\n",
        "    max_lr = MAX_LR,\n",
        "    step_size = stepSize\n",
        ")"
      ],
      "execution_count": 0,
      "outputs": []
    },
    {
      "cell_type": "code",
      "metadata": {
        "id": "X4xIGxjNCvyE",
        "colab_type": "code",
        "colab": {
          "base_uri": "https://localhost:8080/",
          "height": 1000
        },
        "outputId": "c2203694-8ea0-4d1f-bc33-ce4ad7e7a145"
      },
      "source": [
        "# train the network\n",
        "H = model.fit_generator(\n",
        "    aug.flow(trainX, trainY, batch_size = BATCH_SIZE),\n",
        "    validation_data = (valX, valY),\n",
        "    steps_per_epoch = trainX.shape[0] // BATCH_SIZE,\n",
        "    epochs = NUM_OF_EPOCH,\n",
        "    callbacks = [clr],\n",
        "    verbose = 1\n",
        ")"
      ],
      "execution_count": 50,
      "outputs": [
        {
          "output_type": "stream",
          "text": [
            "Epoch 1/48\n",
            "93/93 [==============================] - 45s 481ms/step - loss: 10.5499 - accuracy: 0.4097 - val_loss: 1.7874 - val_accuracy: 0.7718\n",
            "Epoch 2/48\n",
            "93/93 [==============================] - 43s 460ms/step - loss: 3.6150 - accuracy: 0.6905 - val_loss: 1.0052 - val_accuracy: 0.8769\n",
            "Epoch 3/48\n",
            "93/93 [==============================] - 43s 464ms/step - loss: 2.1168 - accuracy: 0.7804 - val_loss: 1.0090 - val_accuracy: 0.8919\n",
            "Epoch 4/48\n",
            "93/93 [==============================] - 44s 470ms/step - loss: 1.5539 - accuracy: 0.8214 - val_loss: 0.7218 - val_accuracy: 0.9069\n",
            "Epoch 5/48\n",
            "93/93 [==============================] - 43s 467ms/step - loss: 1.1762 - accuracy: 0.8244 - val_loss: 0.6258 - val_accuracy: 0.9159\n",
            "Epoch 6/48\n",
            "93/93 [==============================] - 43s 463ms/step - loss: 0.9593 - accuracy: 0.8349 - val_loss: 0.5313 - val_accuracy: 0.9129\n",
            "Epoch 7/48\n",
            "93/93 [==============================] - 43s 462ms/step - loss: 0.7904 - accuracy: 0.8403 - val_loss: 0.4534 - val_accuracy: 0.9159\n",
            "Epoch 8/48\n",
            "93/93 [==============================] - 43s 461ms/step - loss: 0.6082 - accuracy: 0.8474 - val_loss: 0.4344 - val_accuracy: 0.9279\n",
            "Epoch 9/48\n",
            "93/93 [==============================] - 43s 462ms/step - loss: 0.5532 - accuracy: 0.8609 - val_loss: 0.3893 - val_accuracy: 0.9219\n",
            "Epoch 10/48\n",
            "93/93 [==============================] - 43s 460ms/step - loss: 0.4924 - accuracy: 0.8714 - val_loss: 0.3642 - val_accuracy: 0.9219\n",
            "Epoch 11/48\n",
            "93/93 [==============================] - 43s 461ms/step - loss: 0.4443 - accuracy: 0.8681 - val_loss: 0.3758 - val_accuracy: 0.9189\n",
            "Epoch 12/48\n",
            "93/93 [==============================] - 43s 460ms/step - loss: 0.4454 - accuracy: 0.8698 - val_loss: 0.3669 - val_accuracy: 0.9189\n",
            "Epoch 13/48\n",
            "93/93 [==============================] - 43s 458ms/step - loss: 0.3780 - accuracy: 0.8813 - val_loss: 0.3430 - val_accuracy: 0.9249\n",
            "Epoch 14/48\n",
            "93/93 [==============================] - 43s 461ms/step - loss: 0.3540 - accuracy: 0.8799 - val_loss: 0.3323 - val_accuracy: 0.9249\n",
            "Epoch 15/48\n",
            "93/93 [==============================] - 43s 461ms/step - loss: 0.3724 - accuracy: 0.8796 - val_loss: 0.3324 - val_accuracy: 0.9279\n",
            "Epoch 16/48\n",
            "93/93 [==============================] - 43s 461ms/step - loss: 0.4104 - accuracy: 0.8762 - val_loss: 0.3315 - val_accuracy: 0.9279\n",
            "Epoch 17/48\n",
            "93/93 [==============================] - 43s 467ms/step - loss: 0.3517 - accuracy: 0.8742 - val_loss: 0.3299 - val_accuracy: 0.9279\n",
            "Epoch 18/48\n",
            "93/93 [==============================] - 43s 464ms/step - loss: 0.3459 - accuracy: 0.8843 - val_loss: 0.3406 - val_accuracy: 0.9249\n",
            "Epoch 19/48\n",
            "93/93 [==============================] - 43s 459ms/step - loss: 0.3527 - accuracy: 0.8772 - val_loss: 0.3374 - val_accuracy: 0.9279\n",
            "Epoch 20/48\n",
            "93/93 [==============================] - 43s 458ms/step - loss: 0.3178 - accuracy: 0.8911 - val_loss: 0.3230 - val_accuracy: 0.9369\n",
            "Epoch 21/48\n",
            "93/93 [==============================] - 43s 459ms/step - loss: 0.3729 - accuracy: 0.8789 - val_loss: 0.3212 - val_accuracy: 0.9339\n",
            "Epoch 22/48\n",
            "93/93 [==============================] - 43s 460ms/step - loss: 0.3346 - accuracy: 0.8863 - val_loss: 0.3262 - val_accuracy: 0.9279\n",
            "Epoch 23/48\n",
            "93/93 [==============================] - 42s 456ms/step - loss: 0.3021 - accuracy: 0.8985 - val_loss: 0.3074 - val_accuracy: 0.9279\n",
            "Epoch 24/48\n",
            "93/93 [==============================] - 43s 459ms/step - loss: 0.3361 - accuracy: 0.8928 - val_loss: 0.3212 - val_accuracy: 0.9369\n",
            "Epoch 25/48\n",
            "93/93 [==============================] - 43s 460ms/step - loss: 0.3272 - accuracy: 0.8917 - val_loss: 0.3412 - val_accuracy: 0.9189\n",
            "Epoch 26/48\n",
            "93/93 [==============================] - 43s 463ms/step - loss: 0.3160 - accuracy: 0.8914 - val_loss: 0.3568 - val_accuracy: 0.9309\n",
            "Epoch 27/48\n",
            "93/93 [==============================] - 42s 455ms/step - loss: 0.2762 - accuracy: 0.9026 - val_loss: 0.3237 - val_accuracy: 0.9399\n",
            "Epoch 28/48\n",
            "93/93 [==============================] - 43s 463ms/step - loss: 0.2978 - accuracy: 0.8988 - val_loss: 0.3224 - val_accuracy: 0.9369\n",
            "Epoch 29/48\n",
            "93/93 [==============================] - 44s 469ms/step - loss: 0.2851 - accuracy: 0.9060 - val_loss: 0.3204 - val_accuracy: 0.9399\n",
            "Epoch 30/48\n",
            "93/93 [==============================] - 43s 461ms/step - loss: 0.2788 - accuracy: 0.9005 - val_loss: 0.3077 - val_accuracy: 0.9369\n",
            "Epoch 31/48\n",
            "93/93 [==============================] - 43s 461ms/step - loss: 0.2455 - accuracy: 0.9107 - val_loss: 0.3016 - val_accuracy: 0.9369\n",
            "Epoch 32/48\n",
            "93/93 [==============================] - 43s 463ms/step - loss: 0.2504 - accuracy: 0.9131 - val_loss: 0.3007 - val_accuracy: 0.9369\n",
            "Epoch 33/48\n",
            "93/93 [==============================] - 43s 467ms/step - loss: 0.2443 - accuracy: 0.9144 - val_loss: 0.3059 - val_accuracy: 0.9339\n",
            "Epoch 34/48\n",
            "93/93 [==============================] - 43s 466ms/step - loss: 0.2587 - accuracy: 0.9151 - val_loss: 0.3030 - val_accuracy: 0.9369\n",
            "Epoch 35/48\n",
            "93/93 [==============================] - 43s 466ms/step - loss: 0.2455 - accuracy: 0.9161 - val_loss: 0.2950 - val_accuracy: 0.9369\n",
            "Epoch 36/48\n",
            "93/93 [==============================] - 44s 472ms/step - loss: 0.2432 - accuracy: 0.9158 - val_loss: 0.2894 - val_accuracy: 0.9399\n",
            "Epoch 37/48\n",
            "93/93 [==============================] - 44s 471ms/step - loss: 0.2410 - accuracy: 0.9178 - val_loss: 0.2973 - val_accuracy: 0.9369\n",
            "Epoch 38/48\n",
            "93/93 [==============================] - 44s 471ms/step - loss: 0.2553 - accuracy: 0.9127 - val_loss: 0.3022 - val_accuracy: 0.9249\n",
            "Epoch 39/48\n",
            "93/93 [==============================] - 44s 470ms/step - loss: 0.2468 - accuracy: 0.9144 - val_loss: 0.3005 - val_accuracy: 0.9309\n",
            "Epoch 40/48\n",
            "93/93 [==============================] - 44s 471ms/step - loss: 0.2424 - accuracy: 0.9171 - val_loss: 0.3053 - val_accuracy: 0.9219\n",
            "Epoch 41/48\n",
            "93/93 [==============================] - 44s 470ms/step - loss: 0.2577 - accuracy: 0.9114 - val_loss: 0.3171 - val_accuracy: 0.9309\n",
            "Epoch 42/48\n",
            "93/93 [==============================] - 44s 471ms/step - loss: 0.2313 - accuracy: 0.9171 - val_loss: 0.3126 - val_accuracy: 0.9399\n",
            "Epoch 43/48\n",
            "93/93 [==============================] - 44s 474ms/step - loss: 0.2467 - accuracy: 0.9168 - val_loss: 0.3153 - val_accuracy: 0.9339\n",
            "Epoch 44/48\n",
            "93/93 [==============================] - 44s 473ms/step - loss: 0.2579 - accuracy: 0.9161 - val_loss: 0.2950 - val_accuracy: 0.9309\n",
            "Epoch 45/48\n",
            "93/93 [==============================] - 44s 473ms/step - loss: 0.2207 - accuracy: 0.9225 - val_loss: 0.3081 - val_accuracy: 0.9309\n",
            "Epoch 46/48\n",
            "93/93 [==============================] - 44s 472ms/step - loss: 0.2284 - accuracy: 0.9232 - val_loss: 0.3068 - val_accuracy: 0.9279\n",
            "Epoch 47/48\n",
            "93/93 [==============================] - 44s 473ms/step - loss: 0.2336 - accuracy: 0.9215 - val_loss: 0.3051 - val_accuracy: 0.9309\n",
            "Epoch 48/48\n",
            "93/93 [==============================] - 44s 476ms/step - loss: 0.2054 - accuracy: 0.9222 - val_loss: 0.3074 - val_accuracy: 0.9309\n"
          ],
          "name": "stdout"
        }
      ]
    },
    {
      "cell_type": "code",
      "metadata": {
        "id": "Axa2162pFQE2",
        "colab_type": "code",
        "colab": {
          "base_uri": "https://localhost:8080/",
          "height": 208
        },
        "outputId": "8dfd4f0f-4891-43ab-a2bf-523df3b7800f"
      },
      "source": [
        "# evaluating the network\n",
        "predictions = model.predict(testX, batch_size = BATCH_SIZE)\n",
        "print(classification_report(testY.argmax(axis=1), predictions.argmax(axis=1), target_names = CLASSES))"
      ],
      "execution_count": 52,
      "outputs": [
        {
          "output_type": "stream",
          "text": [
            "              precision    recall  f1-score   support\n",
            "\n",
            "     Cyclone       0.96      0.97      0.97       205\n",
            "    Wildfire       0.97      0.94      0.96       353\n",
            "       Flood       0.89      0.94      0.92       267\n",
            "  Earthquake       0.97      0.94      0.96       282\n",
            "\n",
            "    accuracy                           0.95      1107\n",
            "   macro avg       0.95      0.95      0.95      1107\n",
            "weighted avg       0.95      0.95      0.95      1107\n",
            "\n"
          ],
          "name": "stdout"
        }
      ]
    },
    {
      "cell_type": "code",
      "metadata": {
        "id": "U0nSdksKF5-R",
        "colab_type": "code",
        "colab": {
          "base_uri": "https://localhost:8080/",
          "height": 106
        },
        "outputId": "d2272f67-c9d1-484c-9aaa-eef3028c8c30"
      },
      "source": [
        "# saving the model\n",
        "model.save(MODEL_PATH)"
      ],
      "execution_count": 53,
      "outputs": [
        {
          "output_type": "stream",
          "text": [
            "WARNING:tensorflow:From /usr/local/lib/python3.6/dist-packages/tensorflow/python/ops/resource_variable_ops.py:1817: calling BaseResourceVariable.__init__ (from tensorflow.python.ops.resource_variable_ops) with constraint is deprecated and will be removed in a future version.\n",
            "Instructions for updating:\n",
            "If using Keras pass *_constraint arguments to layers.\n",
            "INFO:tensorflow:Assets written to: output/natural_disaster.model/assets\n"
          ],
          "name": "stdout"
        }
      ]
    },
    {
      "cell_type": "code",
      "metadata": {
        "id": "lBEYZKbBGAzg",
        "colab_type": "code",
        "colab": {
          "base_uri": "https://localhost:8080/",
          "height": 581
        },
        "outputId": "616bfc9b-0315-4bf3-dca0-8bd65b2307a8"
      },
      "source": [
        "# construct a plot that plots and saves the training history\n",
        "N = np.arange(0, NUM_OF_EPOCH)\n",
        "plt.style.use(\"ggplot\")\n",
        "plt.figure()\n",
        "plt.plot(N, H.history[\"loss\"], label=\"train_loss\")\n",
        "plt.plot(N, H.history[\"val_loss\"], label=\"val_loss\")\n",
        "plt.plot(N, H.history[\"accuracy\"], label=\"train_acc\")\n",
        "plt.plot(N, H.history[\"val_accuracy\"], label=\"val_acc\")\n",
        "plt.title(\"Training Loss and Accuracy\")\n",
        "plt.xlabel(\"Epoch #\")\n",
        "plt.ylabel(\"Loss/Accuracy\")\n",
        "plt.legend(loc=\"lower left\")\n",
        "plt.savefig(TRAINING_PLOT_PATH)\n",
        "# plot the learning rate history\n",
        "N = np.arange(0, len(clr.history[\"lr\"]))\n",
        "plt.figure()\n",
        "plt.plot(N, clr.history[\"lr\"])\n",
        "plt.title(\"Cyclical Learning Rate (CLR)\")\n",
        "plt.xlabel(\"Training Iterations\")\n",
        "plt.ylabel(\"Learning Rate\")\n",
        "plt.savefig(CLR_PLOT_PATH)"
      ],
      "execution_count": 57,
      "outputs": [
        {
          "output_type": "display_data",
          "data": {
            "image/png": "[encoded data removed]",
            "text/plain": [
              "<Figure size 432x288 with 1 Axes>"
            ]
          },
          "metadata": {
            "tags": []
          }
        },
        {
          "output_type": "display_data",
          "data": {
            "image/png": "[encoded data removed]",
            "text/plain": [
              "<Figure size 432x288 with 1 Axes>"
            ]
          },
          "metadata": {
            "tags": []
          }
        }
      ]
    },
    {
      "cell_type": "code",
      "metadata": {
        "id": "_M4WKFwfH2vn",
        "colab_type": "code",
        "colab": {}
      },
      "source": [
        ""
      ],
      "execution_count": 0,
      "outputs": []
    },
    {
      "cell_type": "code",
      "metadata": {
        "id": "sA12a8xTH27m",
        "colab_type": "code",
        "colab": {}
      },
      "source": [
        "# NOT WORKING\n",
        "\n",
        "# import the necessary packages\n",
        "from tensorflow.keras.models import load_model\n",
        "from collections import deque\n",
        "import numpy as np\n",
        "import argparse\n",
        "import cv2\n",
        "\n",
        "# load the trained model from disk\n",
        "print(\"[INFO] loading model and label binarizer...\")\n",
        "model = load_model(MODEL_PATH)\n",
        "\n",
        "# initialize the predictions queue\n",
        "Q = deque(maxlen=0)\n",
        "\n",
        "# initialize the video stream, pointer to output video file, and\n",
        "# frame dimensions\n",
        "print(\"[INFO] processing video...\")\n",
        "vs = cv2.VideoCapture(\"Terrific Natural Disasters Compilation.mp4\")\n",
        "print(vs)\n",
        "writer = None\n",
        "(W, H) = (None, None)\n",
        " \n",
        "# loop over frames from the video file stream\n",
        "while True:\n",
        "\t# read the next frame from the file\n",
        "\t(grabbed, frame) = vs.read()\n",
        " \n",
        "\t# if the frame was not grabbed, then we have reached the end\n",
        "\t# of the stream\n",
        "\tif not grabbed:\n",
        "\t\tbreak\n",
        "\tprint(\"grabbed\")\n",
        "\t# if the frame dimensions are empty, grab them\n",
        "\tif W is None or H is None:\n",
        "\t\t(H, W) = frame.shape[:2]\n",
        "\n",
        "\t# clone the output frame, then convert it from BGR to RGB\n",
        "\t# ordering and resize the frame to a fixed 224x224\n",
        "\toutput = frame.copy()\n",
        "\tframe = cv2.cvtColor(frame, cv2.COLOR_BGR2RGB)\n",
        "\tframe = cv2.resize(frame, (224, 224))\n",
        "\tframe = frame.astype(\"float32\")\n",
        "\t\n",
        "\t# make predictions on the frame and then update the predictions\n",
        "\t# queue\n",
        "\tpreds = model.predict(np.expand_dims(frame, axis=0))[0]\n",
        "\tQ.append(preds)\n",
        "\n",
        "\t# perform prediction averaging over the current history of\n",
        "\t# previous predictions\n",
        "\tresults = np.array(Q).mean(axis=0)\n",
        "\ti = np.argmax(results)\n",
        "\tlabel = CLASSES[i]\n",
        "\n",
        "\t# draw the activity on the output frame\n",
        "\ttext = \"activity: {}\".format(label)\n",
        "\tcv2.putText(output, text, (35, 50), cv2.FONT_HERSHEY_SIMPLEX,\n",
        "\t\t1.25, (0, 255, 0), 5)\n",
        " \n",
        "\t# check if the video writer is None\n",
        "\tif writer is None:\n",
        "\t\t# initialize our video writer\n",
        "\t\tfourcc = cv2.VideoWriter_fourcc(*\"MJPG\")\n",
        "\t\twriter = cv2.VideoWriter(\"output/natural_disasters.avi\", fourcc, 30,\n",
        "\t\t\t(W, H), True)\n",
        " \n",
        "\t# write the output frame to disk\n",
        "\twriter.write(output)\n",
        " \n",
        "\t# check to see if we should display the output frame to our\n",
        "\t# screen\n",
        "\n",
        "\tdisplay = 0\n",
        "\tif display > 0:\n",
        "\t\t# show the output image\n",
        "\t\tcv2.imshow(\"Output\", output)\n",
        "\t\tkey = cv2.waitKey(1) & 0xFF\n",
        "\t \n",
        "\t\t# if the `q` key was pressed, break from the loop\n",
        "\t\tif key == ord(\"q\"):\n",
        "\t\t\tbreak\n",
        " \n",
        "# release the file pointers\n",
        "print(\"[INFO] cleaning up...\")\n",
        "# writer.release()\n",
        "vs.release()"
      ],
      "execution_count": 0,
      "outputs": []
    },
    {
      "cell_type": "code",
      "metadata": {
        "id": "K1LiGqC0Pwbo",
        "colab_type": "code",
        "colab": {
          "base_uri": "https://localhost:8080/",
          "height": 34
        },
        "outputId": "20f4907f-b115-4a7a-fbd1-dda5637a50d0"
      },
      "source": [
        "# DOES NOT WORK\n",
        "# !zip output.zip output/\n",
        "# # Drivebase =  '/content/drive/My Drive/Colab Notebooks/DLProjects/TrafficSignclassification/Code/'\n",
        "# upload = drive.CreateFile({'title': 'output.zip'})\n",
        "# upload.SetContentFile('output.zip')\n",
        "# upload.Upload()"
      ],
      "execution_count": 66,
      "outputs": [
        {
          "output_type": "stream",
          "text": [
            "updating: output/ (stored 0%)\n"
          ],
          "name": "stdout"
        }
      ]
    },
    {
      "cell_type": "code",
      "metadata": {
        "id": "G57SdExGVFKy",
        "colab_type": "code",
        "colab": {
          "base_uri": "https://localhost:8080/",
          "height": 173
        },
        "outputId": "b0f1e789-0e7f-41d1-9fdc-c16bfb68b7a3"
      },
      "source": [
        "from google.colab import drive\n",
        "drive.mount('/content/drive')\n",
        "!ls drive/My\\ Drive/Colab\\ Notebooks/DLProjects/NaturalDisasterClassification\n",
        "!ls /content/output\n",
        "!cp -r $OutputFolder $DriveOutputFolder"
      ],
      "execution_count": 84,
      "outputs": [
        {
          "output_type": "stream",
          "text": [
            "Drive already mounted at /content/drive; to attempt to forcibly remount, call drive.mount(\"/content/drive\", force_remount=True).\n",
            " clr_callback.py\n",
            " Cyclone_Wildfire_Flood_Earthquake_Database.zip\n",
            " learningratefinder.py\n",
            " NaturalDisasterClassification.ipynb\n",
            " output\n",
            "'Terrific Natural Disasters Compilation.mp4'\n",
            "clr_plot.png\t natural_disaster.model  training_plot.png\n",
            "lrfind_plot.png  natural_disasters.avi\n"
          ],
          "name": "stdout"
        }
      ]
    },
    {
      "cell_type": "code",
      "metadata": {
        "id": "TiIx3EXCXzqL",
        "colab_type": "code",
        "colab": {}
      },
      "source": [
        ""
      ],
      "execution_count": 0,
      "outputs": []
    }
  ]
}