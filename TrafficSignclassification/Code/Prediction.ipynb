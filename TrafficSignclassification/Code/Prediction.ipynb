{
 "cells": [
  {
   "cell_type": "code",
   "execution_count": 1,
   "metadata": {},
   "outputs": [],
   "source": [
    "from tensorflow.keras.models import load_model\n",
    "from skimage import transform, io, exposure\n",
    "from imutils import paths\n",
    "import numpy as np\n",
    "import imutils, random, cv2"
   ]
  },
  {
   "cell_type": "code",
   "execution_count": 10,
   "metadata": {},
   "outputs": [],
   "source": [
    "model = load_model(\"output/trafficsignnet15.model\")"
   ]
  },
  {
   "cell_type": "code",
   "execution_count": 11,
   "metadata": {},
   "outputs": [],
   "source": [
    "# loading the label names\n",
    "labelNames = open(\"signnames.csv\").read().strip().split(\"\\n\")[1:]\n",
    "labelNames = [l.split(\",\")[1] for l in labelNames]"
   ]
  },
  {
   "cell_type": "code",
   "execution_count": 12,
   "metadata": {},
   "outputs": [],
   "source": [
    "imagePaths = list(paths.list_images(\"gtsrb-german-traffic-sign/Test\"))"
   ]
  },
  {
   "cell_type": "code",
   "execution_count": 13,
   "metadata": {},
   "outputs": [],
   "source": [
    "random.shuffle(imagePaths)"
   ]
  },
  {
   "cell_type": "code",
   "execution_count": 14,
   "metadata": {},
   "outputs": [],
   "source": [
    "imagePaths = imagePaths[:25]"
   ]
  },
  {
   "cell_type": "code",
   "execution_count": 15,
   "metadata": {},
   "outputs": [],
   "source": [
    "# loop over the image paths\n",
    "for (i, imagePath) in enumerate(imagePaths):\n",
    "    \n",
    "    # load the image, resize it to 32x32 pixels, and then apply\n",
    "    # Contrast Limited Adaptive Histogram Equalization (CLAHE),\n",
    "    # just like we did during training\n",
    "    image = io.imread(imagePath)\n",
    "    image = transform.resize(image, (32, 32))\n",
    "    image = exposure.equalize_adapthist(image, clip_limit=0.1)\n",
    "    \n",
    "    # preprocess the image by scaling it to the range [0, 1]\n",
    "    image = image.astype(\"float32\") / 255.0\n",
    "    image = np.expand_dims(image, axis=0)\n",
    "    \n",
    "    # make predictions using the traffic sign recognizer CNN\n",
    "    preds = model.predict(image)\n",
    "    j = preds.argmax(axis=1)[0]\n",
    "    label = labelNames[j]\n",
    "    \n",
    "    # load the image using OpenCV, resize it, and draw the label on it\n",
    "    image = cv2.imread(imagePath)\n",
    "    image = imutils.resize(image, width=128)\n",
    "    cv2.putText(image, label, (5, 15), cv2.FONT_HERSHEY_SIMPLEX,\n",
    "        0.45, (0, 0, 255), 2)\n",
    "    \n",
    "    # save the image to disk\n",
    "    p = \"example\" + str(i) + \".png\"\n",
    "    cv2.imwrite(p, image)"
   ]
  },
  {
   "cell_type": "code",
   "execution_count": null,
   "metadata": {},
   "outputs": [],
   "source": []
  }
 ],
 "metadata": {
  "kernelspec": {
   "display_name": "Python 3",
   "language": "python",
   "name": "python3"
  },
  "language_info": {
   "codemirror_mode": {
    "name": "ipython",
    "version": 3
   },
   "file_extension": ".py",
   "mimetype": "text/x-python",
   "name": "python",
   "nbconvert_exporter": "python",
   "pygments_lexer": "ipython3",
   "version": "3.7.7"
  }
 },
 "nbformat": 4,
 "nbformat_minor": 4
}
